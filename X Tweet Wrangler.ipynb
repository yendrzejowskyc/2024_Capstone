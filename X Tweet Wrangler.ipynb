{
 "cells": [
  {
   "cell_type": "code",
   "execution_count": null,
   "id": "d3ce24f5",
   "metadata": {},
   "outputs": [],
   "source": [
    "# Imports needed for Project\n",
    "from textblob import TextBlob\n",
    "import os\n",
    "import pandas as pd\n",
    "import matplotlib.pyplot as plt\n",
    "import seaborn as sns\n",
    "import itertools\n",
    "import collections\n",
    "import tweepy\n",
    "import nltk\n",
    "from nltk.corpus import stopwords\n",
    "import re\n",
    "import networkx\n",
    "import warnings\n",
    "warnings.filterwarnings(\"ignore\")\n",
    "sns.set(font_scale=1.5)\n",
    "sns.set_style(\"whitegrid\")"
   ]
  },
  {
   "cell_type": "code",
   "execution_count": null,
   "id": "b01100f0",
   "metadata": {},
   "outputs": [],
   "source": [
    "# Gets rid of URL from tweet\n",
    "\n",
    "def remove_url(txt):\n",
    "    return \" \".join(re.sub(\"([^0-9A-Za-z \\t])|(\\w+:\\/\\/\\S+)\", \"\", txt).split())"
   ]
  },
  {
   "cell_type": "code",
   "execution_count": null,
   "id": "41439290",
   "metadata": {},
   "outputs": [],
   "source": [
    "twitter_df = pd.DataFrame()\n",
    "\n",
    "# Need X developer Bearer token. I took mine out for privacy purposes\n",
    "client = tweepy.Client('BEARER_TOKEN')"
   ]
  },
  {
   "cell_type": "code",
   "execution_count": null,
   "id": "6dc2c753",
   "metadata": {},
   "outputs": [],
   "source": [
    "# Pull 500 tweets with specific hashtags taking retweets out \n",
    "\n",
    "tweets1 = tweepy.Paginator(client.search_recent_tweets, query='#Trump2024 -is:retweet', max_results=100).flatten(limit=500)\n",
    "tweets2 = tweepy.Paginator(client.search_recent_tweets, query='#MAGA -is:retweet', max_results=100).flatten(limit=500)\n",
    "tweets3 = tweepy.Paginator(client.search_recent_tweets, query='#MAGA2024 -is:retweet', max_results=100).flatten(limit=500)\n",
    "tweets4 = tweepy.Paginator(client.search_recent_tweets, query='#Biden -is:retweet', max_results=100).flatten(limit=500)\n",
    "tweets5 = tweepy.Paginator(client.search_recent_tweets, query='#BidenHarris -is:retweet', max_results=100).flatten(limit=500)\n",
    "tweets6 = tweepy.Paginator(client.search_recent_tweets, query='#Biden2024 -is:retweet', max_results=100).flatten(limit=500)\n",
    "tweets7 = tweepy.Paginator(client.search_recent_tweets, query='#2024Election -is:retweet', max_results=100).flatten(limit=500)\n",
    "tweets8 = tweepy.Paginator(client.search_recent_tweets, query='#Democrat -is:retweet', max_results=100).flatten(limit=500)\n",
    "tweets9 = tweepy.Paginator(client.search_recent_tweets, query='#Republican -is:retweet', max_results=100).flatten(limit=500)"
   ]
  },
  {
   "cell_type": "code",
   "execution_count": null,
   "id": "ac1ba62e",
   "metadata": {},
   "outputs": [],
   "source": [
    "# Create lists of the userId and the tweet while also calling the remove URL function on the tweet to clean it\n",
    "\n",
    "users_tweets1 = []\n",
    "for tweet in tweets1:\n",
    "    cleaned_tweet1 = remove_url(tweet.text)\n",
    "    users_tweets1.append([tweet.id,cleaned_tweet1])\n",
    "\n",
    "users_tweets2 = []\n",
    "for tweet in tweets2:\n",
    "    cleaned_tweet2 = remove_url(tweet.text)\n",
    "    users_tweets2.append([tweet.id,cleaned_tweet2])\n",
    "    \n",
    "users_tweets3 = []\n",
    "for tweet in tweets3:\n",
    "    cleaned_tweet3 = remove_url(tweet.text)\n",
    "    users_tweets3.append([tweet.id,cleaned_tweet3])\n",
    "\n",
    "users_tweets4 = []\n",
    "for tweet in tweets4:\n",
    "    cleaned_tweet4 = remove_url(tweet.text)\n",
    "    users_tweets4.append([tweet.id,cleaned_tweet4])\n",
    "\n",
    "users_tweets5 = []\n",
    "for tweet in tweets5:\n",
    "    cleaned_tweet5 = remove_url(tweet.text)\n",
    "    users_tweets5.append([tweet.id,cleaned_tweet5])\n",
    "\n",
    "users_tweets6 = []\n",
    "for tweet in tweets6:\n",
    "    cleaned_tweet6 = remove_url(tweet.text)\n",
    "    users_tweets6.append([tweet.id,cleaned_tweet6])\n",
    "\n",
    "users_tweets7 = []\n",
    "for tweet in tweets7:\n",
    "    cleaned_tweet7 = remove_url(tweet.text)\n",
    "    users_tweets7.append([tweet.id,cleaned_tweet7])\n",
    "\n",
    "users_tweets8 = []\n",
    "for tweet in tweets8:\n",
    "    cleaned_tweet8 = remove_url(tweet.text)\n",
    "    users_tweets8.append([tweet.id,cleaned_tweet8])\n",
    "\n",
    "users_tweets9 = []\n",
    "for tweet in tweets9:\n",
    "    cleaned_tweet9 = remove_url(tweet.text)\n",
    "    users_tweets9.append([tweet.id,cleaned_tweet9])"
   ]
  },
  {
   "cell_type": "code",
   "execution_count": null,
   "id": "3c0e982a",
   "metadata": {},
   "outputs": [],
   "source": [
    "# Call TextBlob on the tweet to get sentiment value and add it to a list with the userId, tweet and hashtag\n",
    "\n",
    "sentiments1 = []\n",
    "for user, tweet in users_tweets1:\n",
    "    sent1 = TextBlob(tweet)\n",
    "    sentiments1.append([sent1.polarity,user,tweet,\"#Trump2024\"])\n",
    "\n",
    "sentiments2 = []\n",
    "for user, tweet in users_tweets2:\n",
    "    sent2 = TextBlob(tweet)\n",
    "    sentiments2.append([sent2.polarity,user,tweet,\"#MAGA\"])\n",
    "\n",
    "sentiments3 = []\n",
    "for user, tweet in users_tweets3:\n",
    "    sent3 = TextBlob(tweet)\n",
    "    sentiments3.append([sent3.polarity,user,tweet,\"#MAGA2024\"])\n",
    "\n",
    "sentiments4 = []\n",
    "for user, tweet in users_tweets4:\n",
    "    sent4 = TextBlob(tweet)\n",
    "    sentiments4.append([sent4.polarity,user,tweet,\"#Biden\"])\n",
    "\n",
    "sentiments5 = []\n",
    "for user, tweet in users_tweets5:\n",
    "    sent5 = TextBlob(tweet)\n",
    "    sentiments5.append([sent5.polarity,user,tweet,\"#BidenHarris\"])\n",
    "\n",
    "sentiments6 = []\n",
    "for user, tweet in users_tweets6:\n",
    "    sent6 = TextBlob(tweet)\n",
    "    sentiments6.append([sent6.polarity,user,tweet,\"#Biden2024\"])\n",
    "    \n",
    "sentiments7 = []\n",
    "for user, tweet in users_tweets7:\n",
    "    sent7 = TextBlob(tweet)\n",
    "    sentiments7.append([sent7.polarity,user,tweet,\"#2024Election\"])\n",
    "\n",
    "sentiments8 = []\n",
    "for user, tweet in users_tweets8:\n",
    "    sent8 = TextBlob(tweet)\n",
    "    sentiments8.append([sent8.polarity,user,tweet,\"#Democrat\"])\n",
    "\n",
    "sentiments9 = []\n",
    "for user, tweet in users_tweets9:\n",
    "    #print(tweet)\n",
    "    sent9 = TextBlob(tweet)\n",
    "    sentiments9.append([sent9.polarity,user,tweet,\"#Republican\"])"
   ]
  },
  {
   "cell_type": "code",
   "execution_count": null,
   "id": "4441bdc8",
   "metadata": {},
   "outputs": [],
   "source": [
    "# Create DataFrames with polarity, user, tweet, and hashtag\n",
    "\n",
    "x_df1 = pd.DataFrame(sentiments1, columns=[\"polarity\",\"user\",\"tweet\",\"hashtag\"])\n",
    "x_df2 = pd.DataFrame(sentiments2, columns=[\"polarity\",\"user\",\"tweet\",\"hashtag\"])\n",
    "x_df3 = pd.DataFrame(sentiments3, columns=[\"polarity\",\"user\",\"tweet\",\"hashtag\"])\n",
    "x_df4 = pd.DataFrame(sentiments4, columns=[\"polarity\",\"user\",\"tweet\",\"hashtag\"])\n",
    "x_df5 = pd.DataFrame(sentiments5, columns=[\"polarity\",\"user\",\"tweet\",\"hashtag\"])\n",
    "x_df6 = pd.DataFrame(sentiments6, columns=[\"polarity\",\"user\",\"tweet\",\"hashtag\"])\n",
    "x_df7 = pd.DataFrame(sentiments7, columns=[\"polarity\",\"user\",\"tweet\",\"hashtag\"])\n",
    "x_df8 = pd.DataFrame(sentiments8, columns=[\"polarity\",\"user\",\"tweet\",\"hashtag\"])\n",
    "x_df9 = pd.DataFrame(sentiments9, columns=[\"polarity\",\"user\",\"tweet\",\"hashtag\"])"
   ]
  },
  {
   "cell_type": "code",
   "execution_count": null,
   "id": "e9961749",
   "metadata": {},
   "outputs": [],
   "source": [
    "# Combine 9 DataFrames into one big one for the project Data\n",
    "projData = pd.concat([x_df1, x_df2,x_df3,x_df4,x_df5,x_df6,x_df7,x_df8,x_df9], ignore_index=True)"
   ]
  },
  {
   "cell_type": "code",
   "execution_count": null,
   "id": "023216bc",
   "metadata": {},
   "outputs": [],
   "source": [
    "# check data before converting it to CSV file\n",
    "projData"
   ]
  },
  {
   "cell_type": "code",
   "execution_count": null,
   "id": "8ccafbfa",
   "metadata": {},
   "outputs": [],
   "source": [
    "# Make fields strings \n",
    "\n",
    "projData['user'] = projData['user'].astype(str)\n",
    "projData['tweet'] = projData['tweet'].astype(str)"
   ]
  },
  {
   "cell_type": "code",
   "execution_count": null,
   "id": "3b32be33",
   "metadata": {},
   "outputs": [],
   "source": [
    "# Create CSV file for analysis and rest of project\n",
    "\n",
    "projData.to_csv(\"project_data.csv\",index = False)"
   ]
  },
  {
   "cell_type": "code",
   "execution_count": null,
   "id": "87d2e16c",
   "metadata": {},
   "outputs": [],
   "source": []
  }
 ],
 "metadata": {
  "kernelspec": {
   "display_name": "Python 3 (ipykernel)",
   "language": "python",
   "name": "python3"
  },
  "language_info": {
   "codemirror_mode": {
    "name": "ipython",
    "version": 3
   },
   "file_extension": ".py",
   "mimetype": "text/x-python",
   "name": "python",
   "nbconvert_exporter": "python",
   "pygments_lexer": "ipython3",
   "version": "3.11.5"
  }
 },
 "nbformat": 4,
 "nbformat_minor": 5
}
